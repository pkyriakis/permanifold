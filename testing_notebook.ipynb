{
 "cells": [
  {
   "cell_type": "code",
   "execution_count": 1,
   "metadata": {
    "pycharm": {
     "name": "#%%\n"
    }
   },
   "outputs": [],
   "source": [
    "import math\n",
    "\n",
    "import os\n",
    "from scipy.stats import multivariate_normal\n",
    "import matplotlib.pyplot as plt\n",
    "from collections import defaultdict\n",
    "from time import sleep\n",
    "\n",
    "import numpy as np\n",
    "import multiprocessing, random\n",
    "from scipy.integrate import simps, dblquad\n",
    "import pickle\n",
    "from gtda.images import *\n",
    "from gtda.homology import CubicalPersistence\n",
    "import persistence_diagram, utils\n",
    "import tensorflow as tf\n"
   ]
  },
  {
   "cell_type": "code",
   "execution_count": 2,
   "metadata": {
    "pycharm": {
     "name": "#%%\n"
    }
   },
   "outputs": [],
   "source": [
    "train_images, train_labels, test_images, test_labels = utils.get_mnist_data()\n",
    "train_images = train_images[0:10]\n",
    "\n",
    "## Set the params of the filtrations to extract\n",
    "\n",
    "# Height filtration\n",
    "num_of_vects = 6\n",
    "angles = np.linspace(0, math.pi/2, num_of_vects)\n",
    "dirs = [[round(math.cos(theta),2),round(math.sin(theta),2)] for theta in angles]\n",
    "dirs = np.array(dirs)\n",
    "\n",
    "# Radial filtration\n",
    "center = np.array([[10,10], [10,20], [20,10], [20,20]])\n",
    "radius = np.array([5, 10, 15])\n",
    "\n",
    "# Erosion filtration\n",
    "n_iter_er = np.array([1,2,3,50])\n",
    "\n",
    "# Dilation filtration\n",
    "n_iter_dil = np.array([1,3,5,10,50])\n",
    "\n",
    "params = {'cubical' : None,\n",
    "         'height': dirs,\n",
    "         'radial': {'center' : center,\n",
    "                    'radius' : radius\n",
    "                    },\n",
    "         'erosion': n_iter_er,\n",
    "         'dilation': n_iter_dil\n",
    "         }"
   ]
  },
  {
   "cell_type": "code",
   "execution_count": 3,
   "metadata": {
    "pycharm": {
     "name": "#%%\n"
    }
   },
   "outputs": [
    {
     "name": "stdout",
     "output_type": "stream",
     "text": [
      "data/diagrams/mnist_train/\n"
     ]
    }
   ],
   "source": [
    "PD = persistence_diagram.PDiagram(train_images, params, images_id= 'mnist_train', man_dim=9)\n",
    "print(PD.save_dir)\n",
    "f=open(PD.save_dir+ 'dgms.pkl','rb')\n",
    "[fil_params, dgms_dict] = pickle.load(f)"
   ]
  },
  {
   "cell_type": "code",
   "execution_count": 4,
   "metadata": {
    "pycharm": {
     "name": "#%%\n"
    }
   },
   "outputs": [],
   "source": [
    "pds = PD.get_pds()\n",
    "#vpds = PD.get_vectorized_pds()"
   ]
  },
  {
   "cell_type": "code",
   "execution_count": 6,
   "metadata": {
    "pycharm": {
     "name": "#%%\n"
    }
   },
   "outputs": [],
   "source": [
    "train_data = dict()\n",
    "for ind in pds.keys():\n",
    "    im_data = dict()\n",
    "    cnt = 0\n",
    "    for filtration in pds[ind].keys():\n",
    "        for p in pds[ind][filtration].keys():\n",
    "            im_data[cnt] = pds[ind][filtration][p]\n",
    "            cnt +=1\n",
    "    train_data[ind] = im_data"
   ]
  },
  {
   "cell_type": "code",
   "execution_count": 9,
   "metadata": {
    "pycharm": {
     "name": "#%%\n"
    }
   },
   "outputs": [
    {
     "ename": "MemoryError",
     "evalue": "Unable to allocate 2.89 GiB for an array with shape (1680000, 77, 3) and data type float64",
     "output_type": "error",
     "traceback": [
      "\u001B[0;31m---------------------------------------------------------------------------\u001B[0m",
      "\u001B[0;31mMemoryError\u001B[0m                               Traceback (most recent call last)",
      "\u001B[0;32m<ipython-input-9-a2c65798ced6>\u001B[0m in \u001B[0;36m<module>\u001B[0;34m\u001B[0m\n\u001B[1;32m     23\u001B[0m     \u001B[0;32mreturn\u001B[0m \u001B[0mnp\u001B[0m\u001B[0;34m.\u001B[0m\u001B[0marray\u001B[0m\u001B[0;34m(\u001B[0m\u001B[0mx\u001B[0m\u001B[0;34m)\u001B[0m\u001B[0;34m\u001B[0m\u001B[0;34m\u001B[0m\u001B[0m\n\u001B[1;32m     24\u001B[0m \u001B[0;34m\u001B[0m\u001B[0m\n\u001B[0;32m---> 25\u001B[0;31m \u001B[0mpad\u001B[0m \u001B[0;34m=\u001B[0m \u001B[0mpad_diagrams\u001B[0m\u001B[0;34m(\u001B[0m\u001B[0mpds\u001B[0m\u001B[0;34m)\u001B[0m\u001B[0;34m\u001B[0m\u001B[0;34m\u001B[0m\u001B[0m\n\u001B[0m\u001B[1;32m     26\u001B[0m \u001B[0;34m\u001B[0m\u001B[0m\n",
      "\u001B[0;32m<ipython-input-9-a2c65798ced6>\u001B[0m in \u001B[0;36mpad_diagrams\u001B[0;34m(dgms)\u001B[0m\n\u001B[1;32m     21\u001B[0m                 \u001B[0mx_padded\u001B[0m\u001B[0;34m[\u001B[0m\u001B[0;34m:\u001B[0m\u001B[0mdgm\u001B[0m\u001B[0;34m.\u001B[0m\u001B[0mshape\u001B[0m\u001B[0;34m[\u001B[0m\u001B[0;36m0\u001B[0m\u001B[0;34m]\u001B[0m\u001B[0;34m,\u001B[0m\u001B[0;34m:\u001B[0m\u001B[0;34m]\u001B[0m \u001B[0;34m=\u001B[0m \u001B[0mdgm\u001B[0m\u001B[0;34m\u001B[0m\u001B[0;34m\u001B[0m\u001B[0m\n\u001B[1;32m     22\u001B[0m                 \u001B[0mx\u001B[0m\u001B[0;34m.\u001B[0m\u001B[0mappend\u001B[0m\u001B[0;34m(\u001B[0m\u001B[0mx_padded\u001B[0m\u001B[0;34m)\u001B[0m\u001B[0;34m\u001B[0m\u001B[0;34m\u001B[0m\u001B[0m\n\u001B[0;32m---> 23\u001B[0;31m     \u001B[0;32mreturn\u001B[0m \u001B[0mnp\u001B[0m\u001B[0;34m.\u001B[0m\u001B[0marray\u001B[0m\u001B[0;34m(\u001B[0m\u001B[0mx\u001B[0m\u001B[0;34m)\u001B[0m\u001B[0;34m\u001B[0m\u001B[0;34m\u001B[0m\u001B[0m\n\u001B[0m\u001B[1;32m     24\u001B[0m \u001B[0;34m\u001B[0m\u001B[0m\n\u001B[1;32m     25\u001B[0m \u001B[0mpad\u001B[0m \u001B[0;34m=\u001B[0m \u001B[0mpad_diagrams\u001B[0m\u001B[0;34m(\u001B[0m\u001B[0mpds\u001B[0m\u001B[0;34m)\u001B[0m\u001B[0;34m\u001B[0m\u001B[0;34m\u001B[0m\u001B[0m\n",
      "\u001B[0;31mMemoryError\u001B[0m: Unable to allocate 2.89 GiB for an array with shape (1680000, 77, 3) and data type float64"
     ]
    }
   ],
   "source": [
    "man_dim=2\n",
    "def pad_diagrams(dgms):\n",
    "    '''\n",
    "        Adds zeros points to the diagrams to make the of equal size; tensorflow cant handle inputs with varied size\n",
    "    '''\n",
    "    # Get the highest number of points in a PD\n",
    "    max_num_of_pnts = 0\n",
    "    for ind in dgms.keys():\n",
    "        for filtration in dgms[ind].keys():\n",
    "            for par_ind in dgms[ind][filtration].keys():\n",
    "                dgm = dgms[ind][filtration][par_ind]\n",
    "                max_num_of_pnts = max(max_num_of_pnts, dgm.shape[0])\n",
    "\n",
    "    # Pad\n",
    "    x = []\n",
    "    for ind in dgms.keys():\n",
    "        for filtration in dgms[ind].keys():\n",
    "            for par_ind in dgms[ind][filtration].keys():\n",
    "                dgm = dgms[ind][filtration][par_ind]\n",
    "                x_padded = np.zeros((max_num_of_pnts, man_dim+1)) # plus one cus the first item of each poin is the homology class\n",
    "                x_padded[:dgm.shape[0],:] = dgm\n",
    "                x.append(x_padded)\n",
    "    return np.array(x)\n",
    "\n",
    "pad = pad_diagrams(pds)"
   ]
  },
  {
   "cell_type": "code",
   "execution_count": null,
   "metadata": {
    "pycharm": {
     "name": "#%%\n"
    }
   },
   "outputs": [],
   "source": [
    "PD = persistence_diagram.PDiagram(test_images, params, images_id= 'mnist_test', man_dim=9)\n",
    "pds = PD.get_pds()\n",
    "#vpds = PD.get_vectorized_pds()"
   ]
  },
  {
   "cell_type": "code",
   "execution_count": 4,
   "metadata": {
    "pycharm": {
     "is_executing": true,
     "name": "#%%\n"
    }
   },
   "outputs": [
    {
     "data": {
      "text/plain": [
       "<enumerate at 0x7feaf0f15d20>"
      ]
     },
     "execution_count": 4,
     "metadata": {},
     "output_type": "execute_result"
    }
   ],
   "source": [
    "enumerate([1,5,10])"
   ]
  }
 ],
 "metadata": {
  "kernelspec": {
   "display_name": "Python 3",
   "language": "python",
   "name": "python3"
  },
  "language_info": {
   "codemirror_mode": {
    "name": "ipython",
    "version": 3
   },
   "file_extension": ".py",
   "mimetype": "text/x-python",
   "name": "python",
   "nbconvert_exporter": "python",
   "pygments_lexer": "ipython3",
   "version": "3.7.7"
  }
 },
 "nbformat": 4,
 "nbformat_minor": 4
}