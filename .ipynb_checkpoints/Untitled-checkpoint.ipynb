{
 "cells": [
  {
   "cell_type": "code",
   "execution_count": 32,
   "metadata": {},
   "outputs": [],
   "source": [
    "import datetime\n",
    "import os\n",
    "\n",
    "import tensorflow as tf\n",
    "import layers\n",
    "import numpy as np\n",
    "import utils\n",
    "import pickle\n",
    "import matplotlib.pyplot as plt\n",
    "from gtda.images import RadialFiltration, DilationFiltration, HeightFiltration\n",
    "from gtda.homology import CubicalPersistence\n",
    "\n",
    "import persistence_diagram"
   ]
  },
  {
   "cell_type": "code",
   "execution_count": null,
   "metadata": {
    "pycharm": {
     "name": "#%%\n"
    }
   },
   "outputs": [],
   "source": [
    "train_images, train_labels, test_images, test_labels = utils.get_mnist_data(binirize=True)\n",
    "train_images = train_images[:10]\n",
    "# print(np.where(train_labels==8))\n",
    "# dir = np.array([0,1])\n",
    "# fil = HeightFiltration(direction=dir)\n",
    "# xt = fil.transform(train_images)\n",
    "# #xt = train_images\n",
    "# #print(fil.mesh_)\n",
    "# plt.imshow(xt[0])\n",
    "# ind = np.where(train_labels==9)\n",
    "# cub = CubicalPersistence(homology_dimensions=(0,1,2,3))\n",
    "# cub.fit(xt)\n",
    "# cub.transform_plot(xt,sample=0)\n",
    "\n",
    "param = {'cubical' : None,\n",
    "         'height': np.array([[0,1],[1,0]]),\n",
    "         'radial': np.array([[10,3],[20,6]]),\n",
    "         'erosion': np.array([5]),\n",
    "         'dilation': np.array([10])\n",
    "         }\n",
    "PD = persistence_diagram.PDiagram(test_images, param)\n",
    "pds = PD.get_pds()\n",
    "\n",
    "\n",
    "\n"
   ]
  }
 ],
 "metadata": {
  "kernelspec": {
   "display_name": "Python 3",
   "language": "python",
   "name": "python3"
  },
  "language_info": {
   "codemirror_mode": {
    "name": "ipython",
    "version": 3
   },
   "file_extension": ".py",
   "mimetype": "text/x-python",
   "name": "python",
   "nbconvert_exporter": "python",
   "pygments_lexer": "ipython3",
   "version": "3.7.7"
  }
 },
 "nbformat": 4,
 "nbformat_minor": 4
}
