{
 "cells": [
  {
   "cell_type": "code",
   "execution_count": 1,
   "outputs": [
    {
     "ename": "AttributeError",
     "evalue": "'dict' object has no attribute 'shape'",
     "output_type": "error",
     "traceback": [
      "\u001B[0;31m---------------------------------------------------------------------------\u001B[0m",
      "\u001B[0;31mAttributeError\u001B[0m                            Traceback (most recent call last)",
      "\u001B[0;32m<ipython-input-1-50a3d1d36fb2>\u001B[0m in \u001B[0;36m<module>\u001B[0;34m\u001B[0m\n\u001B[1;32m     88\u001B[0m \u001B[0my_train\u001B[0m \u001B[0;34m=\u001B[0m \u001B[0mtrain_labels\u001B[0m\u001B[0;34m\u001B[0m\u001B[0;34m\u001B[0m\u001B[0m\n\u001B[1;32m     89\u001B[0m \u001B[0my_test\u001B[0m \u001B[0;34m=\u001B[0m \u001B[0mtest_labels\u001B[0m\u001B[0;34m\u001B[0m\u001B[0;34m\u001B[0m\u001B[0m\n\u001B[0;32m---> 90\u001B[0;31m \u001B[0mprint\u001B[0m\u001B[0;34m(\u001B[0m\u001B[0mdgms_train\u001B[0m\u001B[0;34m.\u001B[0m\u001B[0mshape\u001B[0m\u001B[0;34m)\u001B[0m\u001B[0;34m\u001B[0m\u001B[0;34m\u001B[0m\u001B[0m\n\u001B[0m\u001B[1;32m     91\u001B[0m \u001B[0mprint\u001B[0m\u001B[0;34m(\u001B[0m\u001B[0mdgms_test\u001B[0m\u001B[0;34m.\u001B[0m\u001B[0mshape\u001B[0m\u001B[0;34m)\u001B[0m\u001B[0;34m\u001B[0m\u001B[0;34m\u001B[0m\u001B[0m\n\u001B[1;32m     92\u001B[0m \u001B[0;34m\u001B[0m\u001B[0m\n",
      "\u001B[0;31mAttributeError\u001B[0m: 'dict' object has no attribute 'shape'"
     ]
    }
   ],
   "source": [
    "import datetime\n",
    "import os, math\n",
    "\n",
    "import persistence_diagram\n",
    "import tensorflow as tf\n",
    "import layers\n",
    "import numpy as np\n",
    "import utils\n",
    "\n",
    "man_dim = 2 # Dimension of the manifold\n",
    "K = 20 # number of projection bases\n",
    "num_of_hom = 3 # number of homology classes; hardcoded for now (we know its 3 for images);\n",
    "               # TODO code function to find it\n",
    "\n",
    "batch_size = 64\n",
    "epochs = 3\n",
    "save_every = 1\n",
    "\n",
    "def pad_diagrams(dgms):\n",
    "    '''\n",
    "        Adds zeros points to the diagrams to make them of equal size; tensorflow cant handle inputs with varied size\n",
    "    '''\n",
    "    # Get the highest number of points in a PD\n",
    "    max_num_of_pnts = 0\n",
    "    for ind in dgms.keys():\n",
    "        num_of_dgms = 0\n",
    "        for filtration in dgms[ind].keys():\n",
    "            for par_ind in dgms[ind][filtration].keys():\n",
    "                dgm = dgms[ind][filtration][par_ind]\n",
    "                max_num_of_pnts = max(max_num_of_pnts, dgm.shape[0])\n",
    "                num_of_dgms += 1\n",
    "\n",
    "    # Pad\n",
    "    N = len(dgms.keys())\n",
    "    out = np.zeros([N,num_of_dgms,max_num_of_pnts,man_dim+1], dtype=np.float32)\n",
    "    for ind in dgms.keys():\n",
    "        cnt = 0\n",
    "        for filtration in dgms[ind].keys():\n",
    "            for par_ind in dgms[ind][filtration].keys():\n",
    "                dgm = dgms[ind][filtration][par_ind]\n",
    "                out[ind,cnt,:dgm.shape[0],:] = dgm\n",
    "                cnt += 1\n",
    "    return out\n",
    "\n",
    "\n",
    "# Obtain the data\n",
    "img_id = 'mnist'\n",
    "train_images, train_labels, test_images, test_labels = utils.get_mnist_data()\n",
    "# train_images = train_images[:3000]\n",
    "# train_labels = train_labels[:3000]\n",
    "# test_images = test_images[:500]\n",
    "# test_labels = test_labels[:500]\n",
    "\n",
    "## Set the params of the filtrations to extract\n",
    "# Height filtration\n",
    "num_of_vects = 6\n",
    "angles = np.linspace(0, math.pi/2, num_of_vects)\n",
    "dirs = [[round(math.cos(theta),2),round(math.sin(theta),2)] for theta in angles]\n",
    "dirs = np.array(dirs)\n",
    "\n",
    "# Radial filtration\n",
    "center = np.array([[10,10], [10,20], [20,10], [20,20]])\n",
    "radius = np.array([5, 10, 15])\n",
    "\n",
    "# Erosion filtration\n",
    "n_iter_er = np.array([1,2,3,50])\n",
    "\n",
    "# Dilation filtration\n",
    "n_iter_dil = np.array([1,3,5,10,50])\n",
    "\n",
    "params = {'cubical' : None,\n",
    "         'height': dirs,\n",
    "         'radial': {'center' : center,\n",
    "                    'radius' : radius\n",
    "                    },\n",
    "         'erosion': n_iter_er,\n",
    "         'dilation': n_iter_dil\n",
    "         }\n",
    "# Get persistence diagrams\n",
    "pd_train = persistence_diagram.PDiagram(train_images, fil_parms=params, images_id='mnist_train')\n",
    "pd_test = persistence_diagram.PDiagram(test_images, fil_parms=params, images_id='mnist_test')\n",
    "\n",
    "# Get train test data\n",
    "dgms_train = pd_train.get_pds()\n",
    "dgms_test = pd_test.get_pds()\n",
    "x_train = pad_diagrams(dgms_train)\n",
    "x_test = pad_diagrams(dgms_test)\n",
    "y_train = train_labels\n",
    "y_test = test_labels\n",
    "print(dgms_train.shape)\n",
    "print(dgms_test.shape)"
   ],
   "metadata": {
    "collapsed": false,
    "pycharm": {
     "name": "#%%\n"
    }
   }
  },
  {
   "cell_type": "code",
   "execution_count": 2,
   "outputs": [],
   "source": [
    "import layers\n",
    "\n",
    "#pm = layers.PManifoldLayer(28,2,2)\n",
    "input = x_train[:2,:,:,:]"
   ],
   "metadata": {
    "collapsed": false,
    "pycharm": {
     "name": "#%%\n"
    }
   }
  },
  {
   "cell_type": "code",
   "execution_count": 2,
   "outputs": [
    {
     "ename": "NameError",
     "evalue": "name 'tf' is not defined",
     "output_type": "error",
     "traceback": [
      "\u001B[0;31m---------------------------------------------------------------------------\u001B[0m",
      "\u001B[0;31mNameError\u001B[0m                                 Traceback (most recent call last)",
      "\u001B[0;32m<ipython-input-2-614716172a4b>\u001B[0m in \u001B[0;36m<module>\u001B[0;34m\u001B[0m\n\u001B[1;32m      1\u001B[0m \u001B[0;31m# pydev_debug_cell\u001B[0m\u001B[0;34m\u001B[0m\u001B[0;34m\u001B[0m\u001B[0;34m\u001B[0m\u001B[0m\n\u001B[1;32m      2\u001B[0m \u001B[0mnum_of_fil\u001B[0m\u001B[0;34m=\u001B[0m\u001B[0;36m28\u001B[0m\u001B[0;34m\u001B[0m\u001B[0;34m\u001B[0m\u001B[0m\n\u001B[0;32m----> 3\u001B[0;31m \u001B[0mtheta_init\u001B[0m \u001B[0;34m=\u001B[0m \u001B[0mtf\u001B[0m\u001B[0;34m.\u001B[0m\u001B[0mrandom_normal_initializer\u001B[0m\u001B[0;34m(\u001B[0m\u001B[0;34m)\u001B[0m\u001B[0;34m\u001B[0m\u001B[0;34m\u001B[0m\u001B[0m\n\u001B[0m\u001B[1;32m      4\u001B[0m theta = tf.Variable(name='theta',\n\u001B[1;32m      5\u001B[0m                          initial_value=theta_init(shape=(num_of_fil, man_dim),\n",
      "\u001B[0;31mNameError\u001B[0m: name 'tf' is not defined"
     ]
    }
   ],
   "source": [
    "num_of_fil=28\n",
    "theta_init = tf.random_normal_initializer()\n",
    "theta = tf.Variable(name='theta',\n",
    "                         initial_value=theta_init(shape=(num_of_fil, man_dim),\n",
    "                                                  dtype=tf.float32),\n",
    "                         trainable=True)\n",
    "class_w = tf.Variable(name='class_weight',\n",
    "                           initial_value=theta_init(shape=(num_of_hom, ),\n",
    "                                                    dtype=tf.float32),\n",
    "                           trainable=True)\n",
    "\n",
    "x_o = tf.zeros(shape=(man_dim,))\n",
    "output_batch = tf.TensorArray(dtype=tf.float32, size=0, dynamic_size=True)\n",
    "for i in tf.range(tf.shape(input)[0]):\n",
    "    out = tf.TensorArray(dtype=tf.float32, size=0, dynamic_size=True)\n",
    "    sum = tf.zeros(shape=(man_dim,), dtype=tf.float32)\n",
    "    for k in tf.range(num_of_fil):\n",
    "        dgm = input[i,k,:,:]\n",
    "        tf.print(dgm)\n",
    "        j = tf.constant(0)\n",
    "        while j < tf.shape(dgm)[0] and tf.math.count_nonzero(dgm[j,:]) != 0:\n",
    "            point = dgm[j,:]\n",
    "            hom = tf.cast(point[0], tf.int32) # last element is the hom. class\n",
    "            point = point[:2]\n",
    "            y_pnt = tf.convert_to_tensor(point, dtype=tf.float32)\n",
    "\n",
    "            ## TODO x_pnt has CONSTRAINTS, need to implement this\n",
    "            x_pnt = utils.Poincare.tf_parametrization(y_pnt, theta[k,:])\n",
    "            t_vec_x = utils.Poincare.tf_log_map_x(x_o, x_pnt, 1.)\n",
    "            if not tf.math.is_nan(tf.reduce_sum(t_vec_x,axis=0)):\n",
    "                sum = tf.add(sum,\n",
    "                         tf.scalar_mul(class_w[hom], t_vec_x))\n",
    "            j = tf.add(j,1)\n",
    "        x_dgm = utils.Poincare.tf_exp_map_x(x_o, sum, 1.)\n",
    "        y_dgm = utils.Poincare.tf_chart(x_dgm)\n",
    "        #print(y_dgm)\n",
    "        out = out.write(k, y_dgm)\n",
    "    out = out.stack()\n",
    "    tf.print(out)\n",
    "    out = tf.reshape(out, shape=[-1])\n",
    "    output_batch = output_batch.write(i, out)\n",
    "    #tf.print(i)\n",
    "output_batch = output_batch.stack()\n",
    "outp = tf.reshape(output_batch, shape=[-1, man_dim*num_of_fil])"
   ],
   "metadata": {
    "collapsed": false,
    "pycharm": {
     "name": "#%%\n"
    }
   }
  },
  {
   "cell_type": "code",
   "execution_count": null,
   "outputs": [],
   "source": [
    "aa = tf.reduce_sum(t_vec_x,axis=0)\n",
    "if not tf.math.is_nan(aa):\n",
    "    print('fg')\n",
    "\n",
    "\n"
   ],
   "metadata": {
    "collapsed": false,
    "pycharm": {
     "name": "#%%\n"
    }
   }
  },
  {
   "cell_type": "code",
   "execution_count": null,
   "outputs": [],
   "source": [
    "\n",
    "dgm = input[i,k,:,:]\n",
    "tf.print(dgm)\n",
    "j = tf.constant(0)\n",
    "while j < tf.shape(dgm)[0] and tf.math.count_nonzero(dgm[j,:]) != 0:\n",
    "    point = dgm[j,:]\n",
    "    hom = tf.cast(point[0], tf.int32) # last element is the hom. class\n",
    "    point = point[:2]\n",
    "    y_pnt = tf.convert_to_tensor(point, dtype=tf.float32)\n",
    "\n",
    "    ## TODO x_pnt has CONSTRAINTS, need to implement this\n",
    "    x_pnt = utils.Poincare.tf_parametrization(y_pnt, theta[k,:])\n",
    "    t_vec_x = utils.Poincare.tf_log_map_x(x_o, x_pnt, 1.)\n",
    "    aa = tf.reduce_sum(t_vec_x,axis=0)\n",
    "    if tf.math.is_nan(aa):\n",
    "        print('fgnfghnfghfg')\n",
    "        exit()\n",
    "    sum = tf.add(sum,\n",
    "                 tf.scalar_mul(class_w[hom], t_vec_x))\n",
    "    j = tf.add(j,1)\n",
    "x_dgm = utils.Poincare.tf_exp_map_x(x_o, sum, 1.)\n",
    "y_dgm = utils.Poincare.tf_chart(x_dgm)\n",
    "#print(y_dgm)\n",
    "out = out.write(k, y_dgm)"
   ],
   "metadata": {
    "collapsed": false,
    "pycharm": {
     "name": "#%%\n"
    }
   }
  }
 ],
 "metadata": {
  "kernelspec": {
   "display_name": "Python 3",
   "language": "python",
   "name": "python3"
  },
  "language_info": {
   "codemirror_mode": {
    "name": "ipython",
    "version": 2
   },
   "file_extension": ".py",
   "mimetype": "text/x-python",
   "name": "python",
   "nbconvert_exporter": "python",
   "pygments_lexer": "ipython2",
   "version": "2.7.6"
  }
 },
 "nbformat": 4,
 "nbformat_minor": 0
}