{
 "cells": [
  {
   "cell_type": "code",
   "execution_count": 10,
   "outputs": [],
   "source": [
    "import math\n",
    "\n",
    "import os\n",
    "from scipy.stats import multivariate_normal\n",
    "import matplotlib.pyplot as plt\n",
    "from collections import defaultdict\n",
    "from time import sleep\n",
    "\n",
    "import dionysus as dn\n",
    "import numpy as np\n",
    "import multiprocessing, random\n",
    "from scipy.integrate import simps, dblquad\n",
    "\n",
    "from gtda.images import *\n",
    "from gtda.homology import CubicalPersistence\n",
    "import persistence_diagram"
   ],
   "metadata": {
    "collapsed": false,
    "pycharm": {
     "name": "#%%\n"
    }
   }
  },
  {
   "cell_type": "code",
   "execution_count": 9,
   "outputs": [
    {
     "name": "stdout",
     "output_type": "stream",
     "text": [
      "Computing persistence diagrams...\n"
     ]
    }
   ],
   "source": [
    "param = {'cubical' : None,\n",
    "         'height': np.array([[0,1],[1,0]]),\n",
    "         'radial': np.array([[10,3],[20,6]]),\n",
    "         'erosion': [5],\n",
    "         'dilation': [10]\n",
    "         }\n",
    "\n",
    "train_images, train_labels, test_images, test_labels = utils.get_mnist_data()\n",
    "train_images = np.expand_dims(train_images[0],axis=0)\n",
    "pd = persistence_diagram.PDiagram(train_images, fil_parms=param)\n",
    "dgms_dict = pd.get_pds()"
   ],
   "metadata": {
    "collapsed": false,
    "pycharm": {
     "name": "#%%\n"
    }
   }
  },
  {
   "cell_type": "code",
   "execution_count": 2,
   "metadata": {
    "pycharm": {
     "name": "#%%\n"
    }
   },
   "outputs": [
    {
     "name": "stdout",
     "output_type": "stream",
     "text": [
      "Computing persistence diagrams...\n",
      "Vectorizing persistence diagrams...\n",
      "[0. 1.]\n",
      "[0. 1.]\n",
      "[0.67450982 0.99215686]\n",
      "[0.74509805 0.99215686]\n",
      "[0.88235295 0.99215686]\n",
      "[0.94901961 0.99215686]\n",
      "[0.98823529 0.99215686]\n",
      "[0.17857143 1.        ]\n",
      "[0.17857143 0.21428571]\n",
      "[0. 0.]\n",
      "[0.14285714 1.        ]\n",
      "[0.28571429 0.60714286]\n",
      "[0. 0.]\n",
      "[0.10398507 1.        ]\n",
      "[0.51992534 0.53124057]\n",
      "[0.5352959  0.54231976]\n",
      "[0.59189338 0.59280609]\n",
      "[0. 0.]\n",
      "[0. 1.]\n",
      "[0.28674418 0.30731815]\n",
      "[0.28674418 0.2981424 ]\n",
      "[0.30731815 0.31622777]\n",
      "[0. 0.]\n",
      "[0. 1.]\n",
      "[0. 1.]\n",
      "[0.33333333 0.66666667]\n",
      "[0.33333333 0.66666667]\n",
      "[0.33333333 0.66666667]\n",
      "[0.33333333 0.66666667]\n",
      "[0.33333333 0.66666667]\n",
      "[0. 1.]\n",
      "[0.03571429 0.05357143]\n"
     ]
    }
   ],
   "source": [
    "cov = 0.1 * np.eye(2)\n",
    "phi = lambda x, y, mu: multivariate_normal(mean=mu, cov=cov).pdf([x, y])\n",
    "grid_dim = int(np.sqrt(pd.man_dim))\n",
    "\n",
    "for index in [0]:\n",
    "    dgms = pd.dgms_dict[index]\n",
    "    vdgms = dict()\n",
    "    for filtration in dgms.keys():\n",
    "        vdgms_filtration = dict()\n",
    "        for ind in dgms[filtration].keys():\n",
    "            dgm = dgms[filtration][ind]\n",
    "            # Get PD for each homology class\n",
    "            dgm_of_hom = defaultdict(list)\n",
    "            for point in dgm:\n",
    "                hom = point[-1]\n",
    "                birth, peristence = pd.__rotate_point(point[:2])\n",
    "                dgm_of_hom[hom].append([birth, peristence])\n",
    "        \n",
    "            # Init vectorization\n",
    "            num_of_hom = len(dgm_of_hom.keys())\n",
    "            vectorized_dgm = np.zeros([pd.man_dim, num_of_hom])\n",
    "        \n",
    "            # Iterate over all homology classes\n",
    "            for hom in dgm_of_hom.keys():\n",
    "                # Get rid of dublicate points to speed up\n",
    "                unique_points = defaultdict(int)\n",
    "                for point in dgm_of_hom[hom]:\n",
    "                    tpnt = tuple(point)\n",
    "                    unique_points[tpnt] = unique_points[tpnt] + 1  # count multiplicity\n",
    "        \n",
    "                rho = lambda x, y: \\\n",
    "                     sum([mult * phi(x, y, list(mu)) for mu, mult in unique_points.items()])\n",
    "        \n",
    "                cnt = 0\n",
    "                lin_space = np.linspace(0, 1, grid_dim)\n",
    "                x_low = lin_space[0]\n",
    "                y_low = lin_space[0]\n",
    "        \n",
    "                # Compute vectorization\n",
    "                for i in range(grid_dim):\n",
    "                    for j in range(grid_dim):\n",
    "                        x_up = lin_space[i]\n",
    "                        y_up = lin_space[j]\n",
    "                        #vectorized_dgm[cnt, int(hom)] = rho(x_low, y_low) + rho(x_low, y_up) + rho(x_up, y_low) + rho(x_up, y_up)\n",
    "                        #integral = pd.__appr_integral(rho, x_low, x_up, y_low, y_up)\n",
    "                        integral, error = dblquad(rho, y_low, y_up, lambda x : x_low, lambda y : x_up, epsrel=0.001)\n",
    "                        vectorized_dgm[cnt, int(hom)] = integral\n",
    "                        x_low = x_up\n",
    "                        y_low = y_up\n",
    "                        cnt += 1\n",
    "            vdgms_filtration[ind] = vectorized_dgm\n",
    "        vdgms[filtration] = vdgms_filtration\n"
   ]
  },
  {
   "cell_type": "code",
   "execution_count": 6,
   "outputs": [
    {
     "name": "stdout",
     "output_type": "stream",
     "text": [
      "{0: array([[ 0.        ,  0.        ],\n",
      "       [ 0.        ,  0.        ],\n",
      "       [ 0.        ,  0.        ],\n",
      "       [-0.22119163, -0.7531589 ],\n",
      "       [ 0.        ,  0.        ],\n",
      "       [ 0.        ,  0.        ],\n",
      "       [-0.02802628, -1.76540707],\n",
      "       [ 0.        ,  0.        ],\n",
      "       [ 0.        ,  0.        ]])}\n",
      "[[ 0.          0.        ]\n",
      " [ 0.          0.        ]\n",
      " [ 0.          0.        ]\n",
      " [-0.70060277 -0.22119163]\n",
      " [ 0.          0.        ]\n",
      " [ 0.          0.        ]\n",
      " [-0.18796467 -0.02802628]\n",
      " [ 0.          0.        ]\n",
      " [ 0.          0.        ]]\n",
      "[[ 0.          0.        ]\n",
      " [ 0.          0.        ]\n",
      " [ 0.          0.        ]\n",
      " [-0.83655052 -0.22119163]\n",
      " [ 0.          0.        ]\n",
      " [ 0.          0.        ]\n",
      " [-0.281142   -0.02802628]\n",
      " [ 0.          0.        ]\n",
      " [ 0.          0.        ]]\n"
     ]
    }
   ],
   "source": [
    "print(vpds[0]['cubical'])\n",
    "print(vpds[0]['height'][0])\n",
    "print(vpds[0]['height'][1])"
   ],
   "metadata": {
    "collapsed": false,
    "pycharm": {
     "name": "#%%\n"
    }
   }
  },
  {
   "cell_type": "code",
   "execution_count": 3,
   "outputs": [
    {
     "ename": "KeyError",
     "evalue": "0",
     "output_type": "error",
     "traceback": [
      "\u001B[0;31m---------------------------------------------------------------------------\u001B[0m",
      "\u001B[0;31mKeyError\u001B[0m                                  Traceback (most recent call last)",
      "\u001B[0;32m<ipython-input-3-00f6a2bde343>\u001B[0m in \u001B[0;36m<module>\u001B[0;34m\u001B[0m\n\u001B[0;32m----> 1\u001B[0;31m \u001B[0mprint\u001B[0m\u001B[0;34m(\u001B[0m\u001B[0mvpds\u001B[0m\u001B[0;34m[\u001B[0m\u001B[0;36m0\u001B[0m\u001B[0;34m]\u001B[0m\u001B[0;34m[\u001B[0m\u001B[0;34m'cubical'\u001B[0m\u001B[0;34m]\u001B[0m\u001B[0;34m)\u001B[0m\u001B[0;34m\u001B[0m\u001B[0;34m\u001B[0m\u001B[0m\n\u001B[0m\u001B[1;32m      2\u001B[0m \u001B[0mprint\u001B[0m\u001B[0;34m(\u001B[0m\u001B[0mvpds\u001B[0m\u001B[0;34m[\u001B[0m\u001B[0;36m0\u001B[0m\u001B[0;34m]\u001B[0m\u001B[0;34m[\u001B[0m\u001B[0;34m'height'\u001B[0m\u001B[0;34m]\u001B[0m\u001B[0;34m[\u001B[0m\u001B[0;36m0\u001B[0m\u001B[0;34m]\u001B[0m\u001B[0;34m)\u001B[0m\u001B[0;34m\u001B[0m\u001B[0;34m\u001B[0m\u001B[0m\n\u001B[1;32m      3\u001B[0m \u001B[0mprint\u001B[0m\u001B[0;34m(\u001B[0m\u001B[0mvpds\u001B[0m\u001B[0;34m[\u001B[0m\u001B[0;36m0\u001B[0m\u001B[0;34m]\u001B[0m\u001B[0;34m[\u001B[0m\u001B[0;34m'height'\u001B[0m\u001B[0;34m]\u001B[0m\u001B[0;34m[\u001B[0m\u001B[0;36m1\u001B[0m\u001B[0;34m]\u001B[0m\u001B[0;34m)\u001B[0m\u001B[0;34m\u001B[0m\u001B[0;34m\u001B[0m\u001B[0m\n\u001B[1;32m      4\u001B[0m \u001B[0mprint\u001B[0m\u001B[0;34m(\u001B[0m\u001B[0mvpds\u001B[0m\u001B[0;34m[\u001B[0m\u001B[0;36m0\u001B[0m\u001B[0;34m]\u001B[0m\u001B[0;34m[\u001B[0m\u001B[0;34m'radial'\u001B[0m\u001B[0;34m]\u001B[0m\u001B[0;34m[\u001B[0m\u001B[0;36m0\u001B[0m\u001B[0;34m]\u001B[0m\u001B[0;34m)\u001B[0m\u001B[0;34m\u001B[0m\u001B[0;34m\u001B[0m\u001B[0m\n\u001B[1;32m      5\u001B[0m \u001B[0mprint\u001B[0m\u001B[0;34m(\u001B[0m\u001B[0mvpds\u001B[0m\u001B[0;34m[\u001B[0m\u001B[0;36m0\u001B[0m\u001B[0;34m]\u001B[0m\u001B[0;34m[\u001B[0m\u001B[0;34m'radial'\u001B[0m\u001B[0;34m]\u001B[0m\u001B[0;34m[\u001B[0m\u001B[0;36m1\u001B[0m\u001B[0;34m]\u001B[0m\u001B[0;34m)\u001B[0m\u001B[0;34m\u001B[0m\u001B[0;34m\u001B[0m\u001B[0m\n",
      "\u001B[0;32m<string>\u001B[0m in \u001B[0;36m__getitem__\u001B[0;34m(self, *args, **kwds)\u001B[0m\n",
      "\u001B[0;32m~/anaconda3/envs/tfgpu/lib/python3.7/multiprocessing/managers.py\u001B[0m in \u001B[0;36m_callmethod\u001B[0;34m(self, methodname, args, kwds)\u001B[0m\n\u001B[1;32m    832\u001B[0m             \u001B[0mdispatch\u001B[0m\u001B[0;34m(\u001B[0m\u001B[0mconn\u001B[0m\u001B[0;34m,\u001B[0m \u001B[0;32mNone\u001B[0m\u001B[0;34m,\u001B[0m \u001B[0;34m'decref'\u001B[0m\u001B[0;34m,\u001B[0m \u001B[0;34m(\u001B[0m\u001B[0mtoken\u001B[0m\u001B[0;34m.\u001B[0m\u001B[0mid\u001B[0m\u001B[0;34m,\u001B[0m\u001B[0;34m)\u001B[0m\u001B[0;34m)\u001B[0m\u001B[0;34m\u001B[0m\u001B[0;34m\u001B[0m\u001B[0m\n\u001B[1;32m    833\u001B[0m             \u001B[0;32mreturn\u001B[0m \u001B[0mproxy\u001B[0m\u001B[0;34m\u001B[0m\u001B[0;34m\u001B[0m\u001B[0m\n\u001B[0;32m--> 834\u001B[0;31m         \u001B[0;32mraise\u001B[0m \u001B[0mconvert_to_error\u001B[0m\u001B[0;34m(\u001B[0m\u001B[0mkind\u001B[0m\u001B[0;34m,\u001B[0m \u001B[0mresult\u001B[0m\u001B[0;34m)\u001B[0m\u001B[0;34m\u001B[0m\u001B[0;34m\u001B[0m\u001B[0m\n\u001B[0m\u001B[1;32m    835\u001B[0m \u001B[0;34m\u001B[0m\u001B[0m\n\u001B[1;32m    836\u001B[0m     \u001B[0;32mdef\u001B[0m \u001B[0m_getvalue\u001B[0m\u001B[0;34m(\u001B[0m\u001B[0mself\u001B[0m\u001B[0;34m)\u001B[0m\u001B[0;34m:\u001B[0m\u001B[0;34m\u001B[0m\u001B[0;34m\u001B[0m\u001B[0m\n",
      "\u001B[0;31mKeyError\u001B[0m: 0"
     ]
    }
   ],
   "source": [
    "print(vpds[0]['cubical'])\n",
    "print(vpds[0]['height'][0])\n",
    "print(vpds[0]['height'][1])\n",
    "print(vpds[0]['radial'][0])\n",
    "print(vpds[0]['radial'][1])\n",
    "print(vpds[0]['erosion'][0])\n",
    "print(vpds[0]['dilation'][0])\n",
    "\n"
   ],
   "metadata": {
    "collapsed": false,
    "pycharm": {
     "name": "#%%\n"
    }
   }
  },
  {
   "cell_type": "code",
   "execution_count": 26,
   "outputs": [
    {
     "name": "stdout",
     "output_type": "stream",
     "text": [
      "0.0 0.3333333333333333 0.0 0.3333333333333333 0.017045563653533963\n",
      "0.3333333333333333 0.6666666666666666 0.0 0.3333333333333333 0.015268678939352236\n",
      "0.6666666666666666 1.0 0.0 0.3333333333333333 0.012251269989818979\n",
      "0.0 0.3333333333333333 0.3333333333333333 0.6666666666666666 0.015268678939352236\n",
      "0.3333333333333333 0.6666666666666666 0.3333333333333333 0.6666666666666666 0.013677022437722931\n",
      "0.6666666666666666 1.0 0.3333333333333333 0.6666666666666666 0.010974157961334692\n",
      "0.0 0.3333333333333333 0.6666666666666666 1.0 0.012251269989818974\n",
      "0.3333333333333333 0.6666666666666666 0.6666666666666666 1.0 0.010974157961334692\n",
      "0.6666666666666666 1.0 0.6666666666666666 1.0 0.008805435796329383\n"
     ]
    }
   ],
   "source": [
    "grid_dim = 4\n",
    "cov =  np.eye(2)\n",
    "unique_points = dict()\n",
    "unique_points[(0,0)] = 1\n",
    "phi = lambda x, y, mu: multivariate_normal(mean=mu, cov=cov).pdf([x, y])\n",
    "rho = lambda x, y: sum([mult * phi(x, y, list(mu)) for mu, mult in unique_points.items()])\n",
    "lin_space = np.linspace(0, 1, grid_dim)\n",
    "mx, my = np.meshgrid(lin_space,lin_space)\n",
    "for i in range(grid_dim - 1):\n",
    "    for j in range(grid_dim - 1):\n",
    "        x_low = mx[i,j]\n",
    "        x_up = mx[i,j+1]\n",
    "        y_low = my[i,j]\n",
    "        y_up = my[i+1,j]\n",
    "        integral, error = dblquad(rho, y_low, y_up, x_low, x_up)\n",
    "        print(x_low,x_up,y_low,y_up, integral)\n"
   ],
   "metadata": {
    "collapsed": false,
    "pycharm": {
     "name": "#%%\n"
    }
   }
  }
 ],
 "metadata": {
  "kernelspec": {
   "display_name": "Python 3",
   "language": "python",
   "name": "python3"
  },
  "language_info": {
   "codemirror_mode": {
    "name": "ipython",
    "version": 3
   },
   "file_extension": ".py",
   "mimetype": "text/x-python",
   "name": "python",
   "nbconvert_exporter": "python",
   "pygments_lexer": "ipython3",
   "version": "3.7.7"
  }
 },
 "nbformat": 4,
 "nbformat_minor": 4
}