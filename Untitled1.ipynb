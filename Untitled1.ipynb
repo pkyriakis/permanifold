{
 "cells": [
  {
   "cell_type": "code",
   "execution_count": null,
   "metadata": {},
   "outputs": [],
   "source": [
    "import datetime\n",
    "import os, math\n",
    "os.environ[\"CUDA_VISIBLE_DEVICES\"] = \"0\"\n",
    "\n",
    "import persistence_diagram\n",
    "import tensorflow as tf\n",
    "import layers\n",
    "import numpy as np\n",
    "import utils\n",
    "\n",
    "man_dim = 2  # Dimension of the manifold\n",
    "K = 28  # number of projection bases\n",
    "num_of_hom = 2  # number of homology classes; hardcoded for now (we know its 3 for images);\n",
    "# TODO code function to find it\n",
    "\n",
    "batch_size = 512\n",
    "epochs = 3\n",
    "save_every = 1\n",
    "\n",
    "\n",
    "def pad_diagrams(dgms):\n",
    "    '''\n",
    "        Adds zeros points to the diagrams to make them of equal size; tensorflow cant handle inputs with varied size\n",
    "    '''\n",
    "    # Get the highest number of points in a PD\n",
    "    max_num_of_pnts = 0\n",
    "    for ind in dgms.keys():\n",
    "        num_of_dgms = 0\n",
    "        for filtration in dgms[ind].keys():\n",
    "            for par_ind in dgms[ind][filtration].keys():\n",
    "                dgm = dgms[ind][filtration][par_ind]\n",
    "                max_num_of_pnts = max(max_num_of_pnts, dgm.shape[0])\n",
    "                num_of_dgms += 1\n",
    "\n",
    "    # Pad\n",
    "    max_num_of_pnts = 77\n",
    "    N = len(dgms.keys())\n",
    "    out = np.zeros([N, num_of_dgms, num_of_hom, max_num_of_pnts, man_dim], dtype=np.float32)\n",
    "    out[:,:,:,2] = -1 \n",
    "    for ind in dgms.keys():\n",
    "        cnt = 0\n",
    "        for filtration in dgms[ind].keys():\n",
    "            for par_ind in dgms[ind][filtration].keys():\n",
    "                dgm = dgms[ind][filtration][par_ind]\n",
    "                for p_ind in range(dgm.shape[0]):\n",
    "                    hom = int(dgm[p_ind,2])\n",
    "                    out[ind, cnt, hom, p_ind, :] = dgm[p_ind,:2]                    \n",
    "                cnt += 1\n",
    "    return out\n",
    "\n",
    "\n",
    "# Obtain the data\n",
    "img_id = 'mnist'\n",
    "train_images, train_labels, test_images, test_labels = utils.get_mnist_data()\n",
    "train_images = train_images.reshape(train_images.shape[0], 28*28).astype('float32')\n",
    "test_images = test_images.reshape(test_images.shape[0], 28*28).astype('float32')\n",
    "\n",
    "## Set the params of the filtrations\n",
    "# Height filtration\n",
    "num_of_vects = 6\n",
    "angles = np.linspace(0, math.pi/2, num_of_vects)\n",
    "dirs = [[round(math.cos(theta),2),round(math.sin(theta),2)] for theta in angles]\n",
    "dirs = np.array(dirs)\n",
    "\n",
    "# Radial filtration\n",
    "center = np.array([[10,10], [10,20], [20,10], [20,20]])\n",
    "radius = np.array([5, 10, 15])\n",
    "\n",
    "# Erosion filtration\n",
    "n_iter_er = np.array([1,2,3,50])\n",
    "\n",
    "# Dilation filtration\n",
    "n_iter_dil = np.array([1,3,5,10,50])\n",
    "\n",
    "params = {'cubical' : None,\n",
    "         'height': dirs,\n",
    "         'radial': {'center' : center,\n",
    "                    'radius' : radius\n",
    "                    },\n",
    "         'erosion': n_iter_er,\n",
    "         'dilation': n_iter_dil\n",
    "         }\n",
    "# Get persistence diagrams\n",
    "pd_train = persistence_diagram.PDiagram(train_images, fil_parms=params, images_id='mnist_train')\n",
    "pd_test = persistence_diagram.PDiagram(test_images, fil_parms=params, images_id='mnist_test')\n",
    "\n",
    "# Get train test data\n",
    "dgms_train = pd_train.get_pds()\n",
    "dgms_test = pd_test.get_pds()\n",
    "x_train = pad_diagrams(dgms_train)\n",
    "x_test = pad_diagrams(dgms_test)\n",
    "x_train=x_train[:10]\n",
    "y_train = train_labels\n",
    "y_test = test_labels"
   ]
  },
  {
   "cell_type": "code",
   "execution_count": null,
   "metadata": {},
   "outputs": [],
   "source": [
    "print(x_train.shape)\n",
    "import utils \n",
    "\n",
    "theta_init = tf.random_normal_initializer()\n",
    "theta = tf.Variable(name='theta',\n",
    "                         initial_value=theta_init(shape=(10, 2),dtype=tf.float32))\n",
    "th0=tf.reshape(theta[0,:],shape=[1,2])\n",
    "x_o = tf.zeros(shape=(2,))\n",
    "def _get_tanget_vector(y_theta):\n",
    "    ''' Maps a single point to the tanget space'''\n",
    "    y = y_theta[:man_dim]\n",
    "    theta = y_theta[man_dim:]\n",
    "    x = utils.Poincare.tf_parametrization(y, theta)\n",
    "    val = utils.Poincare.tf_log_map_x(x_o, x, 1.)\n",
    "    if tf.math.is_nan(tf.reduce_sum(val,axis=0)):\n",
    "        print(y)\n",
    "    return val\n",
    "x_train=x_train[:10]\n",
    "x_train.shape"
   ]
  },
  {
   "cell_type": "code",
   "execution_count": null,
   "metadata": {},
   "outputs": [],
   "source": [
    "max_num_of_pnts = 77\n",
    "K=10\n",
    "def __process_dgm(dgm_theta):\n",
    "    '''\n",
    "        Process a single diagram, ie for a single homology class\n",
    "    '''\n",
    "    \n",
    "    dgm = dgm_theta[0]\n",
    "    theta = tf.reshape(dgm_theta[1],shape=[1,man_dim])\n",
    "    \n",
    "    tiled_theta = tf.tile(theta, [max_num_of_pnts,1])\n",
    "    comb = tf.concat([dgm,tiled_theta], axis=1)\n",
    "    out = tf.map_fn(_get_tanget_vector,comb)\n",
    "    sums = tf.reduce_sum(out, axis=0)\n",
    "    x_dgm = utils.Poincare.tf_exp_map_x(x_o, sums, 1.)\n",
    "    y_dgm = utils.Poincare.tf_chart(x_dgm)\n",
    "    return (y_dgm,1)\n",
    "\n",
    "def __process_dgms(dgms):\n",
    "    print(dgms.shape)\n",
    "    dgm_0 = dgms[0,:,:] # first homology class\n",
    "    dgm_1 = dgms[1,:,:] # second one\n",
    "\n",
    "    # PD of homology class one\n",
    "    edgm_0 = tf.expand_dims(dgm_0, axis=0)\n",
    "    tiled_dgm_0 = tf.tile(edgm_0,[K,1,1])\n",
    "    out_0 = tf.map_fn(__process_dgm, (tiled_dgm_0, theta))[0]\n",
    "\n",
    "    # PD of homology class two\n",
    "    edgm_1 = tf.expand_dims(dgm_1, axis=0)\n",
    "    tiled_dgm_1 = tf.tile(edgm_1,[K,1,1])\n",
    "    out_1 = tf.map_fn(__process_dgm, (tiled_dgm_1, theta))[0]\n",
    "    \n",
    "    return tf.concat([out_0,out_1], axis=0)\n",
    "\n",
    "def call(inputs):\n",
    "    '''\n",
    "        Call method of Keras Layers\n",
    "    '''\n",
    "    return tf.map_fn(__process_dgms, inputs)\n",
    "\n"
   ]
  },
  {
   "cell_type": "code",
   "execution_count": null,
   "metadata": {},
   "outputs": [],
   "source": [
    "from layers import PManifoldLayer, PManifoldModel"
   ]
  },
  {
   "cell_type": "code",
   "execution_count": null,
   "metadata": {},
   "outputs": [],
   "source": [
    "model = PManifoldModel([28,77,3],2,10)"
   ]
  },
  {
   "cell_type": "code",
   "execution_count": null,
   "metadata": {},
   "outputs": [],
   "source": [
    "x_train = np.split(x_train, indices_or_sections= 28, axis=1)\n"
   ]
  },
  {
   "cell_type": "code",
   "execution_count": null,
   "metadata": {},
   "outputs": [],
   "source": [
    "x_train = [np.squeeze(_) for _ in x_train]\n",
    "x_train[0].shape"
   ]
  },
  {
   "cell_type": "code",
   "execution_count": null,
   "metadata": {},
   "outputs": [],
   "source": [
    "\n",
    "model.train(x_train,y_train, x_test,y_test)"
   ]
  },
  {
   "cell_type": "code",
   "execution_count": null,
   "metadata": {},
   "outputs": [],
   "source": [
    "%load_ext autoreload\n",
    "%autoreload 2\n",
    "batch=np.squeeze(x_train[:10,0,:,:])\n",
    "batch.shape"
   ]
  },
  {
   "cell_type": "code",
   "execution_count": null,
   "metadata": {},
   "outputs": [],
   "source": [
    "from layers import PManifoldLayer, PManifoldModel\n",
    "import tensorflow as tf\n",
    "# pm = PManifoldLayer(10,2,2,77)\n",
    "# out = pm(batch)\n",
    "in_layer = []\n",
    "inputs = []\n",
    "for _ in range(28):\n",
    "    pm_layer = PManifoldLayer(10, 2, 2, 77)\n",
    "    cur_input = tf.keras.Input(shape=(2,77,2))\n",
    "    inputs.append(cur_input)\n",
    "    in_layer.append(pm_layer(cur_input))\n",
    "#model = PManifoldModel([28,77,3],2,10)"
   ]
  },
  {
   "cell_type": "code",
   "execution_count": 5,
   "metadata": {},
   "outputs": [
    {
     "name": "stdout",
     "output_type": "stream",
     "text": [
      "tf.Tensor([1. 1. 1. 1. 1. 0.], shape=(6,), dtype=float32)\n"
     ]
    }
   ],
   "source": [
    "import tensorflow as tf\n",
    "tt=tf.ones(shape=(5,))\n",
    "pf = tf.pad(tt, [[0,1]])\n",
    "print(pf)"
   ]
  }
 ],
 "metadata": {
  "kernelspec": {
   "display_name": "Python 3",
   "language": "python",
   "name": "python3"
  }
 },
 "nbformat": 4,
 "nbformat_minor": 4
}
