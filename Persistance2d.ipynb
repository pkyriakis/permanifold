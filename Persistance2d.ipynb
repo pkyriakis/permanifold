{
 "cells": [
  {
   "cell_type": "code",
   "execution_count": 1,
   "metadata": {},
   "outputs": [],
   "source": [
    "%load_ext autoreload\n",
    "#%reload_ext autoreload\n",
    "\n",
    "%autoreload 2\n",
    "\n",
    "import numpy as np\n",
    "import os\n",
    "\n",
    "import os\n",
    "\n",
    "os.environ[\"CUDA_VISIBLE_DEVICES\"]='0'\n",
    "\n",
    "\n"
   ]
  },
  {
   "cell_type": "code",
   "execution_count": 2,
   "metadata": {},
   "outputs": [],
   "source": [
    "\n",
    "from tensorflow.keras.datasets import mnist"
   ]
  },
  {
   "cell_type": "code",
   "execution_count": 3,
   "metadata": {},
   "outputs": [],
   "source": [
    "(x_train,y_train),(x_test,y_test)=mnist.load_data()"
   ]
  },
  {
   "cell_type": "code",
   "execution_count": 5,
   "metadata": {},
   "outputs": [],
   "source": [
    "from gtda.images import RadialFiltration,Binarizer\n",
    "from gtda.homology import CubicalPersistence\n",
    "\n",
    "binarizer=Binarizer()\n",
    "radial=RadialFiltration()\n",
    "cub=CubicalPersistence()\n",
    "radial=radial.fit(x_train)\n",
    "binarizer=binarizer.fit(x_train)\n",
    "cub=cub.fit(x_train)\n",
    "def preprocess(x):\n",
    "    persistance=cub.transform(radial.transform(binarizer.transform(x)))\n",
    "    mask=(persistance[:,:,0]-persistance[:,:,1])==np.zeros_like(persistance[:,:,0])\n",
    "    z=persistance.copy()\n",
    "    z[mask]=0\n",
    "    x=(np.split(z,indices_or_sections=z.shape[1],axis=1))\n",
    "    x=[_x.squeeze() for _x in x]\n",
    "\n",
    "    return x\n",
    "\n",
    "def preprocess_2(x):\n",
    "    persistance=cub.transform(radial.transform(x))\n",
    "    mask=(persistance[:,:,0]-persistance[:,:,1])==np.zeros_like(persistance[:,:,0])\n",
    "    z=persistance.copy()\n",
    "    z[mask]=0\n",
    "    x=(np.split(z,indices_or_sections=z.shape[1],axis=1))\n",
    "    x=[_x.squeeze() for _x in x]\n",
    "\n",
    "    return x\n"
   ]
  },
  {
   "cell_type": "code",
   "execution_count": null,
   "metadata": {},
   "outputs": [],
   "source": []
  },
  {
   "cell_type": "code",
   "execution_count": 6,
   "metadata": {},
   "outputs": [],
   "source": [
    "x_post_1=preprocess(np.concatenate([x_train,x_test],axis=0))\n",
    "x_post_2=preprocess_2(np.concatenate([x_train,x_test],axis=0))"
   ]
  },
  {
   "cell_type": "code",
   "execution_count": 8,
   "metadata": {},
   "outputs": [],
   "source": [
    "x_post=[x_post_1,x_post_2]"
   ]
  },
  {
   "cell_type": "code",
   "execution_count": 9,
   "metadata": {},
   "outputs": [
    {
     "data": {
      "text/plain": [
       "<matplotlib.image.AxesImage at 0x7fab72b25b10>"
      ]
     },
     "execution_count": 9,
     "metadata": {},
     "output_type": "execute_result"
    },
    {
     "data": {
      "image/png": "[encoded data removed]",
      "text/plain": [
       "<Figure size 432x288 with 1 Axes>"
      ]
     },
     "metadata": {
      "needs_background": "light"
     },
     "output_type": "display_data"
    }
   ],
   "source": [
    "import matplotlib.pyplot as plt\n",
    "\n",
    "plt.imshow(x_post_1[0])"
   ]
  },
  {
   "cell_type": "code",
   "execution_count": 14,
   "metadata": {},
   "outputs": [],
   "source": [
    "from tensorflow.keras import layers\n",
    "import tensorflow as tf\n",
    "import math as m\n",
    "\n",
    "\n"
   ]
  },
  {
   "cell_type": "code",
   "execution_count": 15,
   "metadata": {},
   "outputs": [],
   "source": [
    "\n",
    "class Gaussian(layers.Layer):\n",
    "\n",
    "    def __init__(self, h=2):\n",
    "        super(Gaussian, self).__init__()\n",
    "        init=tf.random_uniform_initializer()\n",
    "        \n",
    "        self.m1=tf.Variable(shape=(h,),initial_value=init(shape=(h,)))\n",
    "        self.v1=tf.Variable(shape=(h,),initial_value=init(shape=(h,)))\n",
    "        \n",
    "        self.m2=tf.Variable(shape=(h,),initial_value=init(shape=(h,)))\n",
    "        \n",
    "        self.v2=tf.Variable(shape=(h,),initial_value=init(shape=(h,)))\n",
    "        \n",
    "        self.a=tf.Variable(shape=(h,),initial_value=init(shape=(h,)))\n",
    "        \n",
    "        #self.var=tf.Variable(shape=(n,),initial_value=init(shape=(n,)))\n",
    "        #self.mean=[tf.keras.layers.Dense(n,activation=None) for _ in range(m)]\n",
    "        #self.logvar=[tf.keras.layers.Dense(n,activation=None) for _ in range(m)]\n",
    "            \n",
    "    def call(self, inputs):\n",
    "        h=tf.cast(inputs[:,:,2],dtype=tf.int32)\n",
    "        #tf.print(h.shape)\n",
    "        m1=tf.gather(self.m1,h)\n",
    "        v1=tf.gather(self.v1,h)\n",
    "        x1=inputs[:,:,0]\n",
    "        \n",
    "        m2=tf.gather(self.m2,h)\n",
    "        v2=tf.gather(self.v2,h)\n",
    "        x2=inputs[:,:,1]\n",
    "        \n",
    "        a=tf.gather(self.a,h)\n",
    "        \n",
    "        return a*tf.exp(-((x1-m1)**2/(2*v1**2)+(x2-m2)**2/(2*v2**2)))"
   ]
  },
  {
   "cell_type": "code",
   "execution_count": 16,
   "metadata": {},
   "outputs": [
    {
     "data": {
      "text/plain": [
       "[]"
      ]
     },
     "execution_count": 16,
     "metadata": {},
     "output_type": "execute_result"
    }
   ],
   "source": [
    "gs"
   ]
  },
  {
   "cell_type": "code",
   "execution_count": 17,
   "metadata": {},
   "outputs": [],
   "source": [
    "gs=[]\n",
    "inputs=[]\n",
    "for _x_post in x_post:\n",
    "    x_stack=tf.stack(_x_post,axis=1)\n",
    "    max_h=tf.reduce_max(x_stack[:,:,2])\n",
    "    g=Gaussian(h=tf.cast((max_h+1),dtype=tf.int64))\n",
    "    \n",
    "\n",
    "    _inputs=[tf.keras.Input(shape=(3,)) for _ in range(len(_x_post))]\n",
    "    \n",
    "    inputs+=_inputs\n",
    "    gs.append(tf.reduce_sum(g(tf.stack(_inputs,axis=1)),axis=-1))\n",
    "#print(tf.concat(gs,axis=1))\n",
    "gaussians=tf.stack(gs,axis=1)#tf.reduce_sum(gs,axis=-1)\n",
    "logits=tf.keras.layers.Dense(50,activation=\"relu\")(gaussians)\n",
    "logits=tf.keras.layers.Dense(30,activation=\"relu\")(logits)\n",
    "logits=tf.keras.layers.Dense(20,activation=\"relu\")(logits)\n",
    "logits=tf.keras.layers.Dense(10,activation=None)(logits)\n"
   ]
  },
  {
   "cell_type": "code",
   "execution_count": null,
   "metadata": {},
   "outputs": [],
   "source": [
    "loss_fn = tf.keras.losses.SparseCategoricalCrossentropy(from_logits=True)\n"
   ]
  },
  {
   "cell_type": "code",
   "execution_count": null,
   "metadata": {},
   "outputs": [],
   "source": [
    "from tensorflow.keras.models import Model\n",
    "model=Model(inputs=inputs,outputs=logits)"
   ]
  },
  {
   "cell_type": "code",
   "execution_count": null,
   "metadata": {},
   "outputs": [],
   "source": [
    "model.compile(optimizer='adam',loss=loss_fn,metrics=['accuracy'])"
   ]
  },
  {
   "cell_type": "code",
   "execution_count": 19,
   "metadata": {},
   "outputs": [],
   "source": [
    "x_train_post=[]\n",
    "x_test_post=[]\n",
    "for _x_post in x_post:\n",
    "    x_train_post+=[_x[:60000] for _x in _x_post]\n",
    "    \n",
    "    x_test_post+=[_x[60000:] for _x in _x_post]\n",
    "#x_train_post=np.transpose(np.array(x_train_post),[1,0,2])\n",
    "#x_test_post=np.transpose(np.array(x_test_post),[1,0,2])"
   ]
  },
  {
   "cell_type": "code",
   "execution_count": null,
   "metadata": {
    "scrolled": true
   },
   "outputs": [],
   "source": [
    "model.fit(x_train_post,y_train,batch_size=batch_size,epochs=10)"
   ]
  },
  {
   "cell_type": "code",
   "execution_count": null,
   "metadata": {},
   "outputs": [],
   "source": [
    "model.evaluate(x_test_post,y_test)"
   ]
  },
  {
   "cell_type": "code",
   "execution_count": 18,
   "metadata": {},
   "outputs": [
    {
     "name": "stdout",
     "output_type": "stream",
     "text": [
      "(None, 3)\n"
     ]
    }
   ],
   "source": [
    "\n",
    "\n"
   ]
  }
 ],
 "metadata": {
  "kernelspec": {
   "display_name": "Python 3",
   "language": "python",
   "name": "python3"
  },
  "language_info": {
   "codemirror_mode": {
    "name": "ipython",
    "version": 3
   },
   "file_extension": ".py",
   "mimetype": "text/x-python",
   "name": "python",
   "nbconvert_exporter": "python",
   "pygments_lexer": "ipython3",
   "version": "3.7.7"
  }
 },
 "nbformat": 4,
 "nbformat_minor": 4
}
